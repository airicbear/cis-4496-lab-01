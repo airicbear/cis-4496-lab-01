{
 "cells": [
  {
   "cell_type": "markdown",
   "id": "e66a5b71-4de9-4269-a389-03edd6e78865",
   "metadata": {},
   "source": [
    "# Lab 1: Fetal Health\n",
    "\n",
    "Eric Nguyen, George Aeillo, Arun Agarwal"
   ]
  },
  {
   "cell_type": "markdown",
   "id": "7b619328-1ba4-4dda-91d2-669287819d0b",
   "metadata": {},
   "source": [
    "### Import packages"
   ]
  },
  {
   "cell_type": "code",
   "execution_count": null,
   "id": "88bb8828-ea23-46a8-86da-b0a1c8c99873",
   "metadata": {},
   "outputs": [],
   "source": [
    "import pandas as pd\n",
    "import seaborn as sns\n",
    "import matplotlib.pyplot as plt\n",
    "from sklearn.neighbors import KNeighborsClassifier\n",
    "from sklearn.pipeline import make_pipeline\n",
    "from sklearn.preprocessing import StandardScaler\n",
    "from sklearn.svm import SVC\n",
    "from sklearn.ensemble import RandomForestClassifier\n",
    "from sklearn.datasets import make_classification\n",
    "from sklearn.model_selection import train_test_split\n",
    "from sklearn.metrics import accuracy_score\n",
    "from sklearn.metrics import f1_score"
   ]
  },
  {
   "cell_type": "markdown",
   "id": "4b77daac-7305-4714-b684-9f3246a81f4a",
   "metadata": {},
   "source": [
    "### Read Data"
   ]
  },
  {
   "cell_type": "code",
   "execution_count": null,
   "id": "64c0f693-3dc9-4465-841c-9d96ee19cd1d",
   "metadata": {},
   "outputs": [],
   "source": [
    "df = pd.read_csv('fetal_health.csv')\n",
    "X = df.drop(['fetal_health'], axis=1)\n",
    "y = df['fetal_health']"
   ]
  },
  {
   "cell_type": "code",
   "execution_count": null,
   "id": "206d2aa9-b3c9-49e1-897e-9c01fd79c9b7",
   "metadata": {},
   "outputs": [],
   "source": [
    "X_train, X_test, y_train, y_test = train_test_split(X, y, test_size=0.25, random_state=0)"
   ]
  },
  {
   "cell_type": "markdown",
   "id": "c35ac508-75da-4d29-ae81-972e8ded5de7",
   "metadata": {},
   "source": [
    "### Check Class Imbalance"
   ]
  },
  {
   "cell_type": "code",
   "execution_count": null,
   "id": "5465c5f5-f3ce-49cf-817b-e0c5744b8ff4",
   "metadata": {},
   "outputs": [],
   "source": [
    "{1.0: sum(df.fetal_health == 1.0), 2.0: sum(df.fetal_health == 2.0), 3.0: sum(df.fetal_health == 3.0)}"
   ]
  },
  {
   "cell_type": "markdown",
   "id": "99f16c0b-0532-4d50-9dc7-4b33561b152f",
   "metadata": {},
   "source": [
    "There are more 1.0 labels than 2.0 and 3.0 labels, so there is class imbalance."
   ]
  },
  {
   "cell_type": "markdown",
   "id": "af6b2dde-6ccd-4a1d-a4a1-cc1d5f547434",
   "metadata": {},
   "source": [
    "### KNeighborsClassifier"
   ]
  },
  {
   "cell_type": "code",
   "execution_count": null,
   "id": "f0899a1b-79ad-4a7e-b504-47f0b5e92c2d",
   "metadata": {},
   "outputs": [],
   "source": [
    "clf = KNeighborsClassifier(n_neighbors=3)\n",
    "clf.fit(X_train, y_train)\n",
    "y_pred_knn = clf.predict(X_test)"
   ]
  },
  {
   "cell_type": "code",
   "execution_count": null,
   "id": "fa620523-b2d9-49af-a54d-46b34675cdc2",
   "metadata": {},
   "outputs": [],
   "source": [
    "knn_acc_score = accuracy_score(y_test, y_pred_knn)"
   ]
  },
  {
   "cell_type": "code",
   "execution_count": null,
   "id": "360005d1-ef4c-460c-a3c9-2e9883e42fbd",
   "metadata": {},
   "outputs": [],
   "source": [
    "knn_score = f1_score(y_test, y_pred_knn, average='weighted')"
   ]
  },
  {
   "cell_type": "markdown",
   "id": "cbe91a65-9dd1-4fe6-be8c-0e5b656fab90",
   "metadata": {},
   "source": [
    "### SVC"
   ]
  },
  {
   "cell_type": "code",
   "execution_count": null,
   "id": "b5b9fb43-f37b-4777-a437-ebd88c1462a9",
   "metadata": {},
   "outputs": [],
   "source": [
    "clf = make_pipeline(StandardScaler(), SVC(gamma='auto'))\n",
    "clf.fit(X_train, y_train)\n",
    "y_pred_svc = clf.predict(X_test)"
   ]
  },
  {
   "cell_type": "code",
   "execution_count": null,
   "id": "5e905d4d-12cb-46fc-932d-cc97f3c3f426",
   "metadata": {},
   "outputs": [],
   "source": [
    "svc_acc_score = accuracy_score(y_test, y_pred_svc)"
   ]
  },
  {
   "cell_type": "code",
   "execution_count": null,
   "id": "26fa87ac-4c5a-4f6b-9ab5-87e17d8d133b",
   "metadata": {},
   "outputs": [],
   "source": [
    "svc_score = f1_score(y_test, y_pred_svc, average='weighted')"
   ]
  },
  {
   "cell_type": "markdown",
   "id": "636ea462-1262-487e-9718-76e14ce3be09",
   "metadata": {},
   "source": [
    "### RandomForest"
   ]
  },
  {
   "cell_type": "code",
   "execution_count": null,
   "id": "f16b6ddd-a6cc-43c0-ab60-6de2478a6e15",
   "metadata": {},
   "outputs": [],
   "source": [
    "clf = RandomForestClassifier(max_depth=25, random_state=0)\n",
    "clf.fit(X_train, y_train)\n",
    "y_pred_rf = clf.predict(X_test)"
   ]
  },
  {
   "cell_type": "code",
   "execution_count": null,
   "id": "d71e1971-d1ce-4392-baab-c9199354c230",
   "metadata": {},
   "outputs": [],
   "source": [
    "rf_acc_score = accuracy_score(y_test, y_pred_rf)"
   ]
  },
  {
   "cell_type": "code",
   "execution_count": null,
   "id": "e8184a53-58c5-4fb8-9c36-9df2b3aef1e2",
   "metadata": {},
   "outputs": [],
   "source": [
    "rf_score = f1_score(y_test, y_pred_rf, average='weighted')"
   ]
  },
  {
   "cell_type": "markdown",
   "id": "e93c9108-e76d-468a-a503-14d4f7c813e1",
   "metadata": {},
   "source": [
    "### Feature Correlation"
   ]
  },
  {
   "cell_type": "code",
   "execution_count": null,
   "id": "09b4470c-7e3d-4f95-8ec9-8c7f2a22e240",
   "metadata": {},
   "outputs": [],
   "source": [
    "plt.figure(figsize = (18,16))\n",
    "hcorr = df.corr()\n",
    "hcorr.style.background_gradient()\n",
    "sns.heatmap(hcorr, annot=True)\n",
    "plt.show()"
   ]
  },
  {
   "cell_type": "markdown",
   "id": "95c4bf04-4e65-4b5c-9988-ff8f646d1ae8",
   "metadata": {},
   "source": [
    "### Comparing Classifiers"
   ]
  },
  {
   "cell_type": "code",
   "execution_count": null,
   "id": "ef6f44d1-7148-421e-8c4f-4a8c639de539",
   "metadata": {},
   "outputs": [],
   "source": [
    "df2 = pd.DataFrame({\n",
    "    \"metric\": [\"Accuracy\", \"F1\",\"Accuracy\", \"F1\",\"Accuracy\", \"F1\"],\n",
    "    \"Scores\": [knn_acc_score,knn_score,svc_acc_score,svc_score,rf_acc_score,rf_score],\n",
    "    \"Classifier\": [\"KNN\",\"KNN\",\"SVC\",\"SVC\",\"RF\",\"RF\"],\n",
    "})\n",
    "plt.figure(figsize = (12, 8))\n",
    "plt.title(\"Metrics of Classifiers\", fontsize = 22)\n",
    "sns.set_style(\"darkgrid\")\n",
    "sns.set(font_scale = 2)\n",
    "p = sns.barplot(x = \"Classifier\", y = \"Scores\", hue = \"metric\", data = df2)\n",
    "sns.move_legend(p, \"lower right\")"
   ]
  }
 ],
 "metadata": {
  "kernelspec": {
   "display_name": "Python 3 (ipykernel)",
   "language": "python",
   "name": "python3"
  },
  "language_info": {
   "codemirror_mode": {
    "name": "ipython",
    "version": 3
   },
   "file_extension": ".py",
   "mimetype": "text/x-python",
   "name": "python",
   "nbconvert_exporter": "python",
   "pygments_lexer": "ipython3",
   "version": "3.9.12"
  }
 },
 "nbformat": 4,
 "nbformat_minor": 5
}
